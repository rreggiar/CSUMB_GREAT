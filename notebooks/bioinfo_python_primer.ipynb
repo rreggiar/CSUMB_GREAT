{
  "nbformat": 4,
  "nbformat_minor": 0,
  "metadata": {
    "colab": {
      "private_outputs": true,
      "provenance": []
    },
    "kernelspec": {
      "name": "python3",
      "display_name": "Python 3"
    },
    "language_info": {
      "name": "python"
    }
  },
  "cells": [
    {
      "cell_type": "markdown",
      "source": [
        "# Python-for-Bioinformatics Primer Code Notebook\n",
        "Welcome to Python, Co-Lab notebooks, and maybe even programming in-general!\n",
        "\n",
        "Python is a popular language becuase it can be adapted to a variety of problems and subject matter, its very pleasant to read (at least compared to some other languages), and it can be executed interactively.\n",
        "\n",
        "In particular, Python has accessible and quite functional syntax that can help us work with the `Sequences`, `Identities`, and `Positions` we've been talking about.\n",
        "\n",
        "This is a `code notebook` -- a platform that lets you mix text (like this) and code (see below), execute your code, inspect output, and much more:"
      ],
      "metadata": {
        "id": "OZYahLbCkCKb"
      }
    },
    {
      "cell_type": "code",
      "execution_count": null,
      "metadata": {
        "id": "8iMsTm8wj9XJ"
      },
      "outputs": [],
      "source": [
        "# hello world\n",
        "print('Hello CSUMB')\n",
        "# we're really printing now\n",
        "print('my name is Roman')"
      ]
    },
    {
      "cell_type": "markdown",
      "source": [
        "Python is an `interpreted` langauge, meaning (in practice) it's code is evaluated line-by-line: \n",
        "\n",
        "notice how we print \"Hello CSUMB\" first and \"my name is Roman\" next?\n",
        "\n",
        "Also notice how only the lines that *don't* start with `#` are executed and printed?\n",
        "\n",
        "`#` let's use place comments in the code -- helpful explainers, reminders, etc"
      ],
      "metadata": {
        "id": "B34PTddeLDy1"
      }
    },
    {
      "cell_type": "markdown",
      "source": [
        "#### challenge 1\n",
        "Your first(?) program -- using the **function** `print`"
      ],
      "metadata": {
        "id": "FlCbnTEeXgsX"
      }
    },
    {
      "cell_type": "code",
      "source": [
        "# TODO\n",
        "# print your name\n",
        "# and the name of your group's gene \n",
        "# on separate lines"
      ],
      "metadata": {
        "id": "2SeltjtgXevD"
      },
      "execution_count": null,
      "outputs": []
    },
    {
      "cell_type": "markdown",
      "source": [
        "## Objects & Types\n",
        "\n",
        "Everything in Python is an object, this has many implications, the first of which is we can *create* objects and assign them with *values*\n",
        "\n",
        "A burden we carry with creating objects is naming them -- clear, helpful names make for clear, helpful code that is easy to fix (most of programming is not writing new code, it is fixing existing code)"
      ],
      "metadata": {
        "id": "8CG3o56ZMPD3"
      }
    },
    {
      "cell_type": "code",
      "source": [
        "# assigned the object gene to the value MFG\n",
        "gene = 'MFG' \n",
        "gene_length = 12 "
      ],
      "metadata": {
        "id": "dtotd7xLbAGe"
      },
      "execution_count": null,
      "outputs": []
    },
    {
      "cell_type": "markdown",
      "source": [
        "In the code block, you can already see that these values are represented differently -- and belong to different types of sequence-building units"
      ],
      "metadata": {
        "id": "7mC-6uCOcNUz"
      }
    },
    {
      "cell_type": "markdown",
      "source": [
        "#### challenge 2\n",
        "Using the function `type`, determine the types of both gene and gene_length -- do these make sense?"
      ],
      "metadata": {
        "id": "g18_dFkycy6n"
      }
    },
    {
      "cell_type": "code",
      "source": [
        "# TODO \n",
        "# determine types of gene and gene_length"
      ],
      "metadata": {
        "id": "npTUhMQIcwBT"
      },
      "execution_count": null,
      "outputs": []
    },
    {
      "cell_type": "markdown",
      "source": [
        "Different objects can be interacted with in different ways based on their type "
      ],
      "metadata": {
        "id": "hMgjfj_VejMs"
      }
    },
    {
      "cell_type": "markdown",
      "source": [
        "#### challenge 3\n",
        "Find the combined lengthen of gene_a and gene_b"
      ],
      "metadata": {
        "id": "MLw33hLvf-Bt"
      }
    },
    {
      "cell_type": "code",
      "source": [
        "gene_a_length = 32\n",
        "gene_b_length = 6\n",
        "\n",
        "# python uses standard expressions for math\n",
        "print('A + B = ', gene_a_length + gene_b_length)\n",
        "print('A/B = ', gene_a_length / gene_b_length)\n",
        "\n",
        "gene_c_length = '87'\n",
        "# TODO\n",
        "# find and print combined lengths"
      ],
      "metadata": {
        "id": "4f6UbfeKei8U"
      },
      "execution_count": null,
      "outputs": []
    },
    {
      "cell_type": "markdown",
      "source": [
        "What's wrong? Python types are *strict*, we can't add a word (gene_c_length) and a number (gene_b_length), try and fix this with the **function** `int` "
      ],
      "metadata": {
        "id": "i2E4eZOOgtiY"
      }
    },
    {
      "cell_type": "code",
      "source": [
        "# TODO get it working"
      ],
      "metadata": {
        "id": "7Ir71tQxh67q"
      },
      "execution_count": null,
      "outputs": []
    },
    {
      "cell_type": "markdown",
      "source": [
        "finally, create a new object `total_gene_length` and assign it the total lengths of gene's a,b,c "
      ],
      "metadata": {
        "id": "5ca26lpFl5E-"
      }
    },
    {
      "cell_type": "code",
      "source": [
        "# TODO make total_gene_length set it to the combined lenghts\n",
        "\n",
        "# TODO print the total"
      ],
      "metadata": {
        "id": "BW4v6zSbmKkq"
      },
      "execution_count": null,
      "outputs": []
    },
    {
      "cell_type": "markdown",
      "source": [
        "### Describing a gene in code\n",
        "We're going to be working with `Reference` sequences, `Alignment` sequences, and their properties\n",
        "\n",
        "** those more experienced with programming may recognize the opportunity to construct a `class` here\n",
        "\n",
        "complete the comments here to describe each object's type"
      ],
      "metadata": {
        "id": "MoE1Qq2kh184"
      }
    },
    {
      "cell_type": "code",
      "source": [
        "# we'll use these for awhile, if something weird happens run this cell again to \n",
        "# get these values back\n",
        "\n",
        "gene = 'MFG' # type = \n",
        "gene_length = 12 # type =\n",
        "gene_sequence = 'ATGCCGAATTTA' # type = \n",
        "gene_alignment_count = 460 # type = "
      ],
      "metadata": {
        "id": "uZ3qZr-ikSJw"
      },
      "execution_count": null,
      "outputs": []
    },
    {
      "cell_type": "markdown",
      "source": [
        "Python `int` and `str` types have useful built in functionality, as we've already seen with the mathematical expressions we can apply to integers"
      ],
      "metadata": {
        "id": "7-Ba8CP7pidF"
      }
    },
    {
      "cell_type": "markdown",
      "source": [
        "#### challenge 4\n",
        "4.1 - Calculate the counts-per-nucleotide for the MFG"
      ],
      "metadata": {
        "id": "j0wATFvlwd6z"
      }
    },
    {
      "cell_type": "code",
      "source": [
        "# TODO\n",
        "# calculate counts-per-nucleotide"
      ],
      "metadata": {
        "id": "IWJm7FwgphyN"
      },
      "execution_count": null,
      "outputs": []
    },
    {
      "cell_type": "markdown",
      "source": [
        "4.2 - Confirm the length of MFG using the **function** `len`\n",
        "\n",
        "strings are made up of individual units -- letters -- which in our case are DNA nucleotides, `len` will tell us how many units are in our string `gene_sequence`"
      ],
      "metadata": {
        "id": "CpjDNz6DxD8z"
      }
    },
    {
      "cell_type": "code",
      "source": [
        "# TODO\n",
        "# "
      ],
      "metadata": {
        "id": "KW4O4msPxpA1"
      },
      "execution_count": null,
      "outputs": []
    },
    {
      "cell_type": "markdown",
      "source": [
        "Python can compare values for us, and return a `boolean`: `True` or `False`\n",
        "\n",
        "The simplest comparison is to ask: \"is x equal to y\" which we peform with"
      ],
      "metadata": {
        "id": "ovds13qbx8f7"
      }
    },
    {
      "cell_type": "code",
      "source": [
        "print(gene_alignment_count == gene_length)\n",
        "# TODO \n",
        "# try this with just `=`, what happens?\n",
        "\n",
        "\n",
        "print(gene_alignment_count != gene_length) # we can also use != for 'not'\n",
        "\n"
      ],
      "metadata": {
        "id": "GALk8-NwyQzm"
      },
      "execution_count": null,
      "outputs": []
    },
    {
      "cell_type": "code",
      "source": [
        "# we can also make greater/less than comparisons\n",
        "print(gene_length > gene_alignment_count)\n",
        "print(gene_length < gene_alignment_count)"
      ],
      "metadata": {
        "id": "BhIJ9CYr1Y_n"
      },
      "execution_count": null,
      "outputs": []
    },
    {
      "cell_type": "markdown",
      "source": [
        "finally, have python compare the given gene length with the one you calculate from the provided sequence"
      ],
      "metadata": {
        "id": "BWOhGewbydGB"
      }
    },
    {
      "cell_type": "code",
      "source": [
        "# TODO \n",
        "# compare gene_length and the length of the gene_sequence"
      ],
      "metadata": {
        "id": "GSnMQM7IyCwR"
      },
      "execution_count": null,
      "outputs": []
    },
    {
      "cell_type": "markdown",
      "source": [
        "### Strings\n",
        "\n",
        "Strings have additional properties that are going to be extremely helpful"
      ],
      "metadata": {
        "id": "mMMxsFoqwTkf"
      }
    },
    {
      "cell_type": "markdown",
      "source": [
        "### Slices\n",
        "Slicing a `str` lets us extract individual units/positions/nucleotides programmatically"
      ],
      "metadata": {
        "id": "9PegoGXmzxoD"
      }
    },
    {
      "cell_type": "code",
      "source": [
        "# slicing F from MFG\n",
        "print(gene)\n",
        "gene[1]"
      ],
      "metadata": {
        "id": "BLo94ak-z5NV"
      },
      "execution_count": null,
      "outputs": []
    },
    {
      "cell_type": "markdown",
      "source": [
        "notice here that `gene[1]` returns the middle letter in MFG == 'F'\n",
        "\n",
        "This is because **Python is 0-based -- it starts counting at 0, not 1**\n",
        "\n",
        "more generally, "
      ],
      "metadata": {
        "id": "xqAgtoXH0DNr"
      }
    },
    {
      "cell_type": "code",
      "source": [
        "print(gene_sequence)\n",
        "print(gene_sequence[0:3])\n",
        "print('  ',gene_sequence[3:6]) # these just \n",
        "print('     ', gene_sequence[6:9]) # have random spaces\n",
        "print('        ', gene_sequence[9:12]) # to look cool when we print\n",
        "\n"
      ],
      "metadata": {
        "id": "WTVtKDdm0P1v"
      },
      "execution_count": null,
      "outputs": []
    },
    {
      "cell_type": "markdown",
      "source": [
        "##### challenge 5\n",
        "\n",
        "extract \"CCGAA\" from `gene_sequence`, calculate its length, and the fraction of `gene_length` it represents"
      ],
      "metadata": {
        "id": "8J0SEm551pCO"
      }
    },
    {
      "cell_type": "code",
      "source": [
        "# TODO\n"
      ],
      "metadata": {
        "id": "5CL3Xv9o3Keu"
      },
      "execution_count": null,
      "outputs": []
    },
    {
      "cell_type": "markdown",
      "source": [
        "#### challenge 6\n",
        "slice positions 0 & 1, 7 & 8 from `gene_sequence` and determine if they are equivalent (using python)"
      ],
      "metadata": {
        "id": "fDrsmZQs5cjD"
      }
    },
    {
      "cell_type": "code",
      "source": [
        "# TODO\n"
      ],
      "metadata": {
        "id": "f8jbQeNb6FPj"
      },
      "execution_count": null,
      "outputs": []
    },
    {
      "cell_type": "markdown",
      "source": [
        "We can also query strings for content using `in` and `find`:"
      ],
      "metadata": {
        "id": "sLk1Pwvr6yg9"
      }
    },
    {
      "cell_type": "code",
      "source": [
        "# we know A is in gene_sequence\n",
        "'A' in gene_sequence"
      ],
      "metadata": {
        "id": "ihHF4U7465p6"
      },
      "execution_count": null,
      "outputs": []
    },
    {
      "cell_type": "code",
      "source": [
        "# U shouldn't be, since this is DNA\n",
        "'U' in gene_sequence"
      ],
      "metadata": {
        "id": "X-ZVwJ4t6_D8"
      },
      "execution_count": null,
      "outputs": []
    },
    {
      "cell_type": "code",
      "source": [
        "# the 'find' function is a proprety of all strings\n",
        "# thus, we can call it with `object.find('search_string')`\n",
        "# it will return an `int` reflecting the start position\n",
        "# of the first occurence of the search\n",
        "gene_sequence.find('TTA')"
      ],
      "metadata": {
        "id": "NgRYkZAX7XeE"
      },
      "execution_count": null,
      "outputs": []
    },
    {
      "cell_type": "markdown",
      "source": [
        "#### challenge 7 \n",
        "`find` the first occurence of the start codon in `gene_sequence`,\n",
        "use the coordinate returned to slice the three-nucleotide codon sequence from `gene_sequence` "
      ],
      "metadata": {
        "id": "ToEwKTwC72Ao"
      }
    },
    {
      "cell_type": "code",
      "source": [
        "# TODO"
      ],
      "metadata": {
        "id": "-V2MAy-T8N1X"
      },
      "execution_count": null,
      "outputs": []
    },
    {
      "cell_type": "markdown",
      "source": [
        "#### challenge 8\n",
        "what's the type of the following object?"
      ],
      "metadata": {
        "id": "nV_kq3uI83td"
      }
    },
    {
      "cell_type": "code",
      "source": [
        "collection = [gene, gene_length, gene_sequence, gene_alignment_count]"
      ],
      "metadata": {
        "id": "1BYBDsgP87gp"
      },
      "execution_count": null,
      "outputs": []
    },
    {
      "cell_type": "code",
      "source": [
        "# TODO"
      ],
      "metadata": {
        "id": "tFXwjaFy9M7v"
      },
      "execution_count": null,
      "outputs": []
    },
    {
      "cell_type": "markdown",
      "source": [
        "## List & Dictionary basics\n",
        "\n",
        "Single objects are sometimes related, ordered, connected, or best described in unison.\n",
        "\n",
        "Python has many objects that enable an additional layer of organization and contain many useful functions to help us organize genes, sequences, etc"
      ],
      "metadata": {
        "id": "iPXq4n3YMdWt"
      }
    },
    {
      "cell_type": "markdown",
      "source": [
        "### Lists\n",
        "\n",
        "as defined above, `collection` is a list that stores all the information about 'MFG', but its a little awkard since it has many different types and no clear way to identify which value is which"
      ],
      "metadata": {
        "id": "H5oFDPjBNIsN"
      }
    },
    {
      "cell_type": "code",
      "source": [
        "# lists are always defined with `[ , , ]`\n",
        "collection = [gene, gene_length, gene_sequence, gene_alignment_count]\n",
        "collection"
      ],
      "metadata": {
        "id": "0R21OYF0ARwp"
      },
      "execution_count": null,
      "outputs": []
    },
    {
      "cell_type": "markdown",
      "source": [
        "Lists are better for mono-typic collections, so try making a list of the genes your groups are studying"
      ],
      "metadata": {
        "id": "H-AM86czAVm6"
      }
    },
    {
      "cell_type": "code",
      "source": [
        "test_list = [gene] # a list with one object\n",
        "print(test_list)\n",
        "# TODO make list of gene names\n",
        "# uncomment the line below and complete....\n",
        "# gene_list = "
      ],
      "metadata": {
        "id": "b5J1RbxlCXNv"
      },
      "execution_count": null,
      "outputs": []
    },
    {
      "cell_type": "markdown",
      "source": [
        "lists can also be **Sliced**, following the same rules as `str`'s\n",
        "\n",
        "additionally, we can use `len` again to determine the number of objects in a list"
      ],
      "metadata": {
        "id": "HZb0oDJtCdgs"
      }
    },
    {
      "cell_type": "code",
      "source": [
        "print(len(test_list))\n",
        "test_list[0] # extracting first (and in this case, only) value from test_list\n",
        "# TODO the same for your list"
      ],
      "metadata": {
        "id": "8qYrDTpUCieu"
      },
      "execution_count": null,
      "outputs": []
    },
    {
      "cell_type": "markdown",
      "source": [
        "#### challenge 9\n",
        "9.1 - extract the second character from the third gene name in your list"
      ],
      "metadata": {
        "id": "oErgjRefDlG5"
      }
    },
    {
      "cell_type": "code",
      "source": [
        "# TODO"
      ],
      "metadata": {
        "id": "ag6K05wvEuIm"
      },
      "execution_count": null,
      "outputs": []
    },
    {
      "cell_type": "markdown",
      "source": [
        "9.2 - find the length of the first gene name in your list"
      ],
      "metadata": {
        "id": "OFmP1mU4Evb5"
      }
    },
    {
      "cell_type": "code",
      "source": [
        "# TODO"
      ],
      "metadata": {
        "id": "HvICwk5UE1gT"
      },
      "execution_count": null,
      "outputs": []
    },
    {
      "cell_type": "markdown",
      "source": [
        "### More str and list interplay\n",
        "We can turn long, delimited strings into lists"
      ],
      "metadata": {
        "id": "rzURRPH5GdqH"
      }
    },
    {
      "cell_type": "code",
      "source": [
        "genes = 'KRAS,CDH1,TP53,MFG' # genes as a string\n",
        "print(genes)\n",
        "genes.split(',') # genes as a list of strings, split by comma ','"
      ],
      "metadata": {
        "id": "nq4Buru4Gjwe"
      },
      "execution_count": null,
      "outputs": []
    },
    {
      "cell_type": "markdown",
      "source": [
        "We can also add and remove items from lists"
      ],
      "metadata": {
        "id": "W3aTURsUJE-I"
      }
    },
    {
      "cell_type": "code",
      "source": [
        "print(collection + genes.split(',')) # concatenate lists\n",
        "collection.append(genes.split(',')) # adds the genes-as-list to the collection list\n",
        "print(collection) # notice we can have lists-of-lists....."
      ],
      "metadata": {
        "id": "4mjczuj4HEcJ"
      },
      "execution_count": null,
      "outputs": []
    },
    {
      "cell_type": "code",
      "source": [
        "collection.remove(genes.split(',')) # removes the genes-as-list from the collection list\n",
        "print(collection)"
      ],
      "metadata": {
        "id": "6fCQ_MCsJIOK"
      },
      "execution_count": null,
      "outputs": []
    },
    {
      "cell_type": "markdown",
      "source": [
        "finally, like with strings, we can test for membership:"
      ],
      "metadata": {
        "id": "da0AL37mPaGj"
      }
    },
    {
      "cell_type": "code",
      "source": [
        "'MFG' in test_list\n",
        "# TODO\n",
        "# check for 'MFG' in your gene_list"
      ],
      "metadata": {
        "id": "tErrxVnqPcVN"
      },
      "execution_count": null,
      "outputs": []
    },
    {
      "cell_type": "markdown",
      "source": [
        "#### challenge 10\n",
        "10.1 - Add 'MFG' to `gene_list` and remove 'KRAS'"
      ],
      "metadata": {
        "id": "VpxFueMHJvkW"
      }
    },
    {
      "cell_type": "code",
      "source": [
        "# TODO"
      ],
      "metadata": {
        "id": "YEy43HSMJ0tp"
      },
      "execution_count": null,
      "outputs": []
    },
    {
      "cell_type": "markdown",
      "source": [
        "10.2 - Make a list `super_list` of both `gene_list` and `collection`"
      ],
      "metadata": {
        "id": "_EKGREl2KdXB"
      }
    },
    {
      "cell_type": "code",
      "source": [
        "# TODO"
      ],
      "metadata": {
        "id": "BOgGvSOkKiQR"
      },
      "execution_count": null,
      "outputs": []
    },
    {
      "cell_type": "markdown",
      "source": [
        "### Dictionaries\n",
        "\n",
        "Dictionaries are maps.\n",
        "\n",
        "They point us from \"key\" objects to \"value\" objects.\n",
        "\n",
        "\"A\" -- > Adenine\n",
        "\n",
        "\"C\" -- > Cytosine ....\n",
        "\n",
        "They enable relationships to be stored in python and referenced by single names"
      ],
      "metadata": {
        "id": "G16GR9MTNKxE"
      }
    },
    {
      "cell_type": "code",
      "source": [
        "nt_to_full_name = {'A': 'adenine', 'C': 'cytosine', 'T': 'thymidine', 'G': 'guanine'} # simple dictionary\n",
        "print(nt_to_full_name)"
      ],
      "metadata": {
        "id": "jMeNlCW8K1dN"
      },
      "execution_count": null,
      "outputs": []
    },
    {
      "cell_type": "markdown",
      "source": [
        "we can query dictionaries based on the `key` values it contains\n",
        "\n",
        "*note* that these key values must be **unique** -- you can't have keys that point to multiple places (at least not in that way....)"
      ],
      "metadata": {
        "id": "xIkpOGdLLBWG"
      }
    },
    {
      "cell_type": "code",
      "source": [
        "nt_to_full_name['A'] # adenine"
      ],
      "metadata": {
        "id": "7WAhAlQgMCly"
      },
      "execution_count": null,
      "outputs": []
    },
    {
      "cell_type": "markdown",
      "source": [
        "but not the values"
      ],
      "metadata": {
        "id": "injiTk2SME9e"
      }
    },
    {
      "cell_type": "code",
      "source": [
        "nt_to_full_name['adenine'] # KeyError"
      ],
      "metadata": {
        "id": "vdh8vLShMGVk"
      },
      "execution_count": null,
      "outputs": []
    },
    {
      "cell_type": "markdown",
      "source": [
        "we can also add key, value pairs as we please"
      ],
      "metadata": {
        "id": "h7jQM7kpMfR_"
      }
    },
    {
      "cell_type": "code",
      "source": [
        "nt_to_full_name['U'] = 'uracil' # adding 'U': 'uracil'\n",
        "print(nt_to_full_name)"
      ],
      "metadata": {
        "id": "Rf-pNnqLMiFz"
      },
      "execution_count": null,
      "outputs": []
    },
    {
      "cell_type": "markdown",
      "source": [
        "Let's take `collection` for example, as it makes for a much better dictionary:"
      ],
      "metadata": {
        "id": "Xm7CY4WKMPH3"
      }
    },
    {
      "cell_type": "markdown",
      "source": [
        "#### challenge 11\n",
        "\n",
        "make a dictionary with keys for each of the items in the `collection` list and values assigned appropriately"
      ],
      "metadata": {
        "id": "lOwajQrKMul4"
      }
    },
    {
      "cell_type": "code",
      "source": [
        "# TODO\n",
        "# gene_data = {}\n",
        "# TODO\n",
        "# print the value associated with each key"
      ],
      "metadata": {
        "id": "DFpd-mvAMWwM"
      },
      "execution_count": null,
      "outputs": []
    },
    {
      "cell_type": "markdown",
      "source": [
        "### more from dictionaries"
      ],
      "metadata": {
        "id": "YlTVdxEsOfUu"
      }
    },
    {
      "cell_type": "markdown",
      "source": [
        "Once we have a fully-populated dictionary, we can query it at scale for keys and values:"
      ],
      "metadata": {
        "id": "HEQDj6tfOoBM"
      }
    },
    {
      "cell_type": "code",
      "source": [
        "gene_data.keys() # returns alll the keys"
      ],
      "metadata": {
        "id": "HbOTGdeNOxgh"
      },
      "execution_count": null,
      "outputs": []
    },
    {
      "cell_type": "code",
      "source": [
        "gene_data.values() # returns all the values, losing some of the helpful structure"
      ],
      "metadata": {
        "id": "3RbxLV8IPDqM"
      },
      "execution_count": null,
      "outputs": []
    },
    {
      "cell_type": "code",
      "source": [
        "gene_data.items() # returns all the key:value pairs! very useful"
      ],
      "metadata": {
        "id": "CVkH4O1SPDeo"
      },
      "execution_count": null,
      "outputs": []
    },
    {
      "cell_type": "markdown",
      "source": [
        "we can alse query for membership, much like we did with strings and lists, but this time with keys:"
      ],
      "metadata": {
        "id": "DJL52g7pPQQh"
      }
    },
    {
      "cell_type": "code",
      "source": [
        "'A' in nt_to_full_name"
      ],
      "metadata": {
        "id": "0sahjrX1PVag"
      },
      "execution_count": null,
      "outputs": []
    },
    {
      "cell_type": "code",
      "source": [
        "'A' in gene_data"
      ],
      "metadata": {
        "id": "il3kRraAPtzt"
      },
      "execution_count": null,
      "outputs": []
    },
    {
      "cell_type": "code",
      "source": [
        "print('name' in gene_data)\n",
        "print(gene_data['name'])"
      ],
      "metadata": {
        "id": "-CSvGm3RPti1"
      },
      "execution_count": null,
      "outputs": []
    },
    {
      "cell_type": "markdown",
      "source": [
        "#### challenge 12\n",
        "12.1 - Make a dictionary `gene_dictionary` with key == 'MFG' and value == the dictionary we created above, `gene_data`"
      ],
      "metadata": {
        "id": "pW-UslKnNQ61"
      }
    },
    {
      "cell_type": "code",
      "source": [
        "# TODO\n"
      ],
      "metadata": {
        "id": "WmuE6J9jQkn7"
      },
      "execution_count": null,
      "outputs": []
    },
    {
      "cell_type": "markdown",
      "source": [
        "This dictionary within a dictionary structure allows use to store complex, hierarchical information. Imagine this with many genes, or many reads...."
      ],
      "metadata": {
        "id": "gkuZQFWZj4ui"
      }
    },
    {
      "cell_type": "markdown",
      "source": [
        "12.2 - query this dictionary for the data of MFG and, more specifically, the sequence of MFG"
      ],
      "metadata": {
        "id": "D7TFPS3XQtm5"
      }
    },
    {
      "cell_type": "code",
      "source": [
        "# TODO"
      ],
      "metadata": {
        "id": "K40EhK5GQ0iN"
      },
      "execution_count": null,
      "outputs": []
    },
    {
      "cell_type": "markdown",
      "source": [
        "## Conditional control flow -- `if`\n",
        "\n",
        "We've done a lot of objects and types, but now we want to operate on them, enter \"Flow Control\" or logic.\n",
        "\n",
        "We're going to be to build programs that react to the contents, types, and dimensions of our objects."
      ],
      "metadata": {
        "id": "kTPw_HxVN-5d"
      }
    },
    {
      "cell_type": "code",
      "source": [
        "gene_list = ['MFG', 'KRAS', 'CDH1', 'TP53']\n",
        "gene_data = {'name': 'MFG', 'length': 12, 'sequence': 'ATGCCGAATTTA', 'counts': 460}\n",
        "gene_dictionary = {gene : gene_data}\n",
        "\n",
        "if 'MFG' in gene_list: # if MFG is an object in the list gene_list\n",
        "  print('MFG is my favorite gene')"
      ],
      "metadata": {
        "id": "O1iAqabd6EgW"
      },
      "execution_count": null,
      "outputs": []
    },
    {
      "cell_type": "code",
      "source": [
        "if gene_dictionary['MFG']['length'] < gene_dictionary['MFG']['counts']: # if gene length is less than gene counts\n",
        "  print('there are fewer nucleotides in MFG than reads aligned to it')"
      ],
      "metadata": {
        "id": "WqpnaCSmkv4H"
      },
      "execution_count": null,
      "outputs": []
    },
    {
      "cell_type": "markdown",
      "source": [
        "`if` is always evaluating the statment to be `True` or `False`"
      ],
      "metadata": {
        "id": "0UP8aT9cllzP"
      }
    },
    {
      "cell_type": "code",
      "source": [
        "print(gene_list[0] == gene_list[2]) # demonstrate expected outcome\n",
        "if gene_list[0] == gene_list[2]: # if this comparison evaluates to True\n",
        "  print('we have duplicates')"
      ],
      "metadata": {
        "id": "sefEUIT0lrnH"
      },
      "execution_count": null,
      "outputs": []
    },
    {
      "cell_type": "markdown",
      "source": [
        "in the case of a false outcome, you can follow `if` with `else`:"
      ],
      "metadata": {
        "id": "OCuL9ZIMl6Ky"
      }
    },
    {
      "cell_type": "code",
      "source": [
        "print(gene_list[0] == gene_list[2]) # demonstrate expected outcome\n",
        "if gene_list[0] == gene_list[2]: # if this comparison evaluates to True\n",
        "  print('we have duplicates')\n",
        "else: # if this comparison does not evaluate to True (could be anything else...)\n",
        "  print('no duplicates')"
      ],
      "metadata": {
        "id": "iWAC8k7Kl9g1"
      },
      "execution_count": null,
      "outputs": []
    },
    {
      "cell_type": "markdown",
      "source": [
        "this makes `if` an essential tool in most Python code, and particularly when dealing with sequences:"
      ],
      "metadata": {
        "id": "2FW5-D67mh2J"
      }
    },
    {
      "cell_type": "code",
      "source": [
        "reference_seq = 'ATGGCGAATTTA' # the reference sequence for MFG\n",
        "read_seq = gene_dictionary['MFG']['sequence'] # the read we detected and have worked with"
      ],
      "metadata": {
        "id": "jWapra8Vmm0q"
      },
      "execution_count": null,
      "outputs": []
    },
    {
      "cell_type": "markdown",
      "source": [
        "#### challenge 13\n",
        "write an `if` statment to test whether reference_seq is equivalent to read_seq\n",
        "\n",
        "if it is, print out a message stating the patient is wild-type\n",
        "\n",
        "if not, print out a message stating that you've found a mutation"
      ],
      "metadata": {
        "id": "LxZlqpLuoYqe"
      }
    },
    {
      "cell_type": "code",
      "source": [
        "# TODO"
      ],
      "metadata": {
        "id": "9KT2-nJGogLP"
      },
      "execution_count": null,
      "outputs": []
    },
    {
      "cell_type": "markdown",
      "source": [
        "### nested conditionals\n",
        "Similar to our treatment of dictionaries within dictionaries and lists within lists, we can layer `if` statements in a \"nested\" manner: one within the other:"
      ],
      "metadata": {
        "id": "E8k4FZ5uo_xk"
      }
    },
    {
      "cell_type": "code",
      "source": [
        "if len(read_seq) > 6:\n",
        "  print('gene is longer than six nucleotides')\n",
        "  if read_seq[5] == 'T' :\n",
        "    print('we guess correctly the sixth position is T')\n",
        "  else:\n",
        "    print('the sixth position is actually ', read_seq[5])"
      ],
      "metadata": {
        "id": "o3Kwovs0pKeq"
      },
      "execution_count": null,
      "outputs": []
    },
    {
      "cell_type": "markdown",
      "source": [
        "this is useful for complex/hierarchical logic"
      ],
      "metadata": {
        "id": "BJI9gBtLqFFD"
      }
    },
    {
      "cell_type": "markdown",
      "source": [
        "#### challenge 14\n",
        "14.1 - make an `int` object `snp_position` that you can modify to be any number\n",
        "\n",
        "write a conditional that checks if `read_seq` and `reference_seq` are equivalent\n",
        "\n",
        "if it is, print out a message stating the patient is wild-type\n",
        "\n",
        "if not, print out a message stating that you've found a mutation and then check if the characters at the `snp_position` in each seqeunce are the same.\n",
        "\n",
        "If they are, print \"no mutation at {snp_position}\"\n",
        "\n",
        "If not, print \"mutation at {snp_position}\"\n",
        "\n",
        "Also, if the position exceeds the range of either sequence, print an error message"
      ],
      "metadata": {
        "id": "1f8P1pgNqJ7j"
      }
    },
    {
      "cell_type": "code",
      "source": [
        "# TODO"
      ],
      "metadata": {
        "id": "0SKVlCnHqJCW"
      },
      "execution_count": null,
      "outputs": []
    },
    {
      "cell_type": "markdown",
      "source": [
        "and finally, we have \"else, if\" `elif` which lets you string together multiple `if` tests rather than simple using `else`"
      ],
      "metadata": {
        "id": "AB260DsMxDb7"
      }
    },
    {
      "cell_type": "code",
      "source": [
        "if len(read_seq) > 6:\n",
        "  print('gene is longer than six nucleotides')\n",
        "  if read_seq[5] == 'T' :\n",
        "    print('we guess correctly the sixth position is T')\n",
        "  elif read_seq[5] == 'G':\n",
        "    print('well we guessed twice but its G')\n",
        "  else:\n",
        "    print('the sixth position is actually ', read_seq[5])"
      ],
      "metadata": {
        "id": "T7-o5rhaxNR2"
      },
      "execution_count": null,
      "outputs": []
    },
    {
      "cell_type": "markdown",
      "source": [
        "14.2 - rewrite `14.1` using `elif`"
      ],
      "metadata": {
        "id": "4gCq3JN1xc-t"
      }
    },
    {
      "cell_type": "markdown",
      "source": [
        "## Loops -- `for`\n",
        "\n",
        "Across all languagues, situations, contexts, you will eventually want to do something more than once or across multiple objects.\n",
        "\n",
        "`for` loops enable iteration, or just \"looping\" over multiple objects\n",
        "\n",
        "This can be for simple things, like printing:"
      ],
      "metadata": {
        "id": "lz2uIeChOQQE"
      }
    },
    {
      "cell_type": "code",
      "source": [
        "# printing characters in strings\n",
        "for nt in read_seq: # for nucleotide in read_seq (which is a string)\n",
        "  print(nt)"
      ],
      "metadata": {
        "id": "VPxtxWKUtq1d"
      },
      "execution_count": null,
      "outputs": []
    },
    {
      "cell_type": "code",
      "source": [
        "# printing objects in lists\n",
        "for gene in gene_list:\n",
        "  print(gene)"
      ],
      "metadata": {
        "id": "kGjAN1pJt2W6"
      },
      "execution_count": null,
      "outputs": []
    },
    {
      "cell_type": "code",
      "source": [
        "# printing dictionary pairs\n",
        "for gene, data in gene_dictionary.items():\n",
        "  print(gene, data)"
      ],
      "metadata": {
        "id": "VUcUTIhmt6wv"
      },
      "execution_count": null,
      "outputs": []
    },
    {
      "cell_type": "markdown",
      "source": [
        "just like before, we can nest for loops:"
      ],
      "metadata": {
        "id": "TtzrPudduH3g"
      }
    },
    {
      "cell_type": "code",
      "source": [
        "for gene, data in gene_dictionary.items(): # for all the keys and their values in our dictionary\n",
        "  print(gene, data) # print key, value\n",
        "  for variable in data.keys(): # for the keys in our nested dictionary\n",
        "    print(variable) # print the keys"
      ],
      "metadata": {
        "id": "_SonZ2HXuFNu"
      },
      "execution_count": null,
      "outputs": []
    },
    {
      "cell_type": "code",
      "source": [
        "for gene in gene_list:\n",
        "  print(gene)\n",
        "  for character in gene: # for the keys in our nested dictionary\n",
        "    print(character) # print the keys"
      ],
      "metadata": {
        "id": "UW_fb5YNyjYi"
      },
      "execution_count": null,
      "outputs": []
    },
    {
      "cell_type": "markdown",
      "source": [
        "#### challenge 15\n",
        "make an `int` object `sum`\n",
        "\n",
        "loop over the gene names in `gene_lists` and calculate the length of each name\n",
        "\n",
        "produce the sum of all gene name lengths\n",
        "\n",
        "hint: use `+=` to update a numerical value with addition"
      ],
      "metadata": {
        "id": "uCDp1auAucz1"
      }
    },
    {
      "cell_type": "code",
      "source": [
        "# TODO\n"
      ],
      "metadata": {
        "id": "3ZddjQ0Bu0gM"
      },
      "execution_count": null,
      "outputs": []
    },
    {
      "cell_type": "markdown",
      "source": [
        "### `for` and `if`\n",
        "\n",
        "we can also combine `if` statements and `for` loops to apply logic across multiple objects:"
      ],
      "metadata": {
        "id": "S9GkCLlXwenJ"
      }
    },
    {
      "cell_type": "code",
      "source": [
        "for nt in read_seq:\n",
        "  if nt == 'A':\n",
        "    print('found A')"
      ],
      "metadata": {
        "id": "z3GVXD80wnFB"
      },
      "execution_count": null,
      "outputs": []
    },
    {
      "cell_type": "markdown",
      "source": [
        "#### challenge 16\n",
        "\n",
        "Using the last example, and challenge 15, write a for loop that counts the total number of T's in `read_seq`"
      ],
      "metadata": {
        "id": "FncxvaTOyA3b"
      }
    },
    {
      "cell_type": "code",
      "source": [
        "# TODO"
      ],
      "metadata": {
        "id": "2zAosHWfyOtz"
      },
      "execution_count": null,
      "outputs": []
    },
    {
      "cell_type": "code",
      "source": [
        "# and also, we can do it with built in str functionality\n",
        "read_seq.count('T')"
      ],
      "metadata": {
        "id": "mVpb0urbyPw2"
      },
      "execution_count": null,
      "outputs": []
    },
    {
      "cell_type": "markdown",
      "source": [
        "### a friend of `for`: `range`\n",
        "\n",
        "`range` is very useful when looping over a sequence that has a defined length that you want to track by position, rather than object.\n",
        "\n",
        "For example, looping by nucleotide in sequence lets you access the characters:"
      ],
      "metadata": {
        "id": "-AcYA0cewKqw"
      }
    },
    {
      "cell_type": "code",
      "source": [
        "for nt in read_seq: # for nucleotide in sequence\n",
        "  print(nt)"
      ],
      "metadata": {
        "id": "YKv_DEmpzSPC"
      },
      "execution_count": null,
      "outputs": []
    },
    {
      "cell_type": "markdown",
      "source": [
        "but looping over all the positions in read_seq lets us use the position and the character"
      ],
      "metadata": {
        "id": "k8Arxgg1zfuG"
      }
    },
    {
      "cell_type": "code",
      "source": [
        "for position in range(0, len(read_seq)):\n",
        "  print(position, read_seq[position])"
      ],
      "metadata": {
        "id": "uhhyHHNtzfEo"
      },
      "execution_count": null,
      "outputs": []
    },
    {
      "cell_type": "markdown",
      "source": [
        "#### challenge 17\n",
        "17.1 - create `snp`, a dictionary\n",
        "\n",
        "Using `range`, compare the nucleotides at each position in `read_seq` to `reference_seq`.\n",
        "\n",
        "For each position, make the position a key in `snp` and store the reference and read nucleotides, respectively, in a list that you make the value matching the position in `snp`.\n",
        "\n",
        "If the reference and read nt's are different, include 'Mut' in the list.\n",
        "\n",
        "If they are the same, include 'WT'"
      ],
      "metadata": {
        "id": "4iQUjbkJz2MU"
      }
    },
    {
      "cell_type": "code",
      "source": [
        "# TODO\n"
      ],
      "metadata": {
        "id": "BzXnUHIB0VTJ"
      },
      "execution_count": null,
      "outputs": []
    },
    {
      "cell_type": "markdown",
      "source": [
        "17.2 - Loop over the `snp` dictionary and count the total number of Mutations.\n",
        "\n",
        "Calculate the fraction of Mutated to Wild Type positions and return "
      ],
      "metadata": {
        "id": "uk3R-Pi31_wq"
      }
    },
    {
      "cell_type": "code",
      "source": [
        "# TODO"
      ],
      "metadata": {
        "id": "L5KVVxs-2NIt"
      },
      "execution_count": null,
      "outputs": []
    }
  ]
}